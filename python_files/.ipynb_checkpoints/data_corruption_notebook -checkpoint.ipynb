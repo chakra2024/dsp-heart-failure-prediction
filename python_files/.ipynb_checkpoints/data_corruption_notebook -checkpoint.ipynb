{
 "cells": [
  {
   "cell_type": "code",
   "execution_count": 7,
   "id": "40fcee61-fccf-49d3-b4bf-23b11adbb990",
   "metadata": {},
   "outputs": [],
   "source": [
    "import pandas as pd\n",
    "import numpy as np\n",
    "import os\n",
    "import random"
   ]
  },
  {
   "cell_type": "code",
   "execution_count": 13,
   "id": "d13171b8-94b6-416c-aa08-584462e70747",
   "metadata": {},
   "outputs": [
    {
     "name": "stderr",
     "output_type": "stream",
     "text": [
      "C:\\Users\\edwin victor\\AppData\\Local\\Temp\\ipykernel_24036\\2650634417.py:31: FutureWarning: Setting an item of incompatible dtype is deprecated and will raise an error in a future version of pandas. Value 'Data Not Found' has dtype incompatible with int64, please explicitly cast to a compatible dtype first.\n",
      "  df.at[inconsistent_row, inconsistent_col] = \"Data Not Found\"\n",
      "C:\\Users\\edwin victor\\AppData\\Local\\Temp\\ipykernel_24036\\2650634417.py:31: FutureWarning: Setting an item of incompatible dtype is deprecated and will raise an error in a future version of pandas. Value 'Data Not Found' has dtype incompatible with int64, please explicitly cast to a compatible dtype first.\n",
      "  df.at[inconsistent_row, inconsistent_col] = \"Data Not Found\"\n",
      "C:\\Users\\edwin victor\\AppData\\Local\\Temp\\ipykernel_24036\\2650634417.py:31: FutureWarning: Setting an item of incompatible dtype is deprecated and will raise an error in a future version of pandas. Value 'Data Not Found' has dtype incompatible with float64, please explicitly cast to a compatible dtype first.\n",
      "  df.at[inconsistent_row, inconsistent_col] = \"Data Not Found\"\n",
      "C:\\Users\\edwin victor\\AppData\\Local\\Temp\\ipykernel_24036\\2650634417.py:31: FutureWarning: Setting an item of incompatible dtype is deprecated and will raise an error in a future version of pandas. Value 'Data Not Found' has dtype incompatible with int64, please explicitly cast to a compatible dtype first.\n",
      "  df.at[inconsistent_row, inconsistent_col] = \"Data Not Found\"\n",
      "C:\\Users\\edwin victor\\AppData\\Local\\Temp\\ipykernel_24036\\2650634417.py:31: FutureWarning: Setting an item of incompatible dtype is deprecated and will raise an error in a future version of pandas. Value 'Data Not Found' has dtype incompatible with int64, please explicitly cast to a compatible dtype first.\n",
      "  df.at[inconsistent_row, inconsistent_col] = \"Data Not Found\"\n",
      "C:\\Users\\edwin victor\\AppData\\Local\\Temp\\ipykernel_24036\\2650634417.py:31: FutureWarning: Setting an item of incompatible dtype is deprecated and will raise an error in a future version of pandas. Value 'Data Not Found' has dtype incompatible with int64, please explicitly cast to a compatible dtype first.\n",
      "  df.at[inconsistent_row, inconsistent_col] = \"Data Not Found\"\n"
     ]
    }
   ],
   "source": [
    "def inject_errors_heart_data(df, n):\n",
    "    num_rows, num_cols = df.shape\n",
    "\n",
    "    # Ensure n is not greater than the total number of rows in the dataset\n",
    "    n = min(n, num_rows)\n",
    "\n",
    "    # 1. Introduce unrealistic values in n rows\n",
    "    for _ in range(n):\n",
    "        unrealistic_col = random.choice(['Age', 'RestingBP', 'Cholesterol', 'MaxHR', 'Oldpeak'])\n",
    "        unrealistic_row = random.randint(0, num_rows - 1)\n",
    "\n",
    "        unrealistic_values = {\n",
    "            'Age': (150, 300),\n",
    "            'RestingBP': (400, 800),\n",
    "            'Cholesterol': (1000, 1500),\n",
    "            'MaxHR': (500, 800),\n",
    "            'Oldpeak': (50, 60)\n",
    "        }\n",
    "\n",
    "        unrealistic_value = random.randint(*unrealistic_values[unrealistic_col])\n",
    "        df.at[unrealistic_row, unrealistic_col] = unrealistic_value\n",
    "\n",
    "    # 2. Introduce inconsistent types (strings in numeric columns) for n rows\n",
    "    for _ in range(n):\n",
    "        inconsistent_col = random.choice(['Age', 'RestingBP', 'FastingBS', 'Cholesterol', 'MaxHR', 'Oldpeak'])\n",
    "        inconsistent_row = random.randint(0, num_rows - 1)\n",
    "        df.at[inconsistent_row, inconsistent_col] = \"Data Not Found\"\n",
    "\n",
    "    # 3. Introduce missing values (NaN) for n rows\n",
    "    for _ in range(n):\n",
    "        missing_value_col = random.choice(df.columns)\n",
    "        missing_value_row = random.randint(0, num_rows - 1)\n",
    "        df.at[missing_value_row, missing_value_col] = np.nan\n",
    "\n",
    "    # 4. Replace existing rows with duplicated ones (without adding new rows)\n",
    "    for _ in range(n):\n",
    "        duplicate_row_index = random.randint(0, num_rows - 1)  # Pick a random row index to duplicate\n",
    "        duplicated_row = df.iloc[duplicate_row_index]  # Select the row\n",
    "        replace_row_index = random.randint(0, num_rows - 1)  # Pick a random row to replace\n",
    "        df.iloc[replace_row_index] = duplicated_row.values  # Replace the row with the duplicated row\n",
    "\n",
    "    # 5. Data Misalignment errors\n",
    "    for _ in range(n):\n",
    "        invalid_cat_col = random.choice(['Sex', 'ChestPainType', 'ExerciseAnginal', 'ST_Slope'])\n",
    "        invalid_cat_row = random.randint(0, num_rows - 1)\n",
    "        invalid_value = random.choice(['Either', 'ATA', 'N', 'Flat'])\n",
    "        df.at[invalid_cat_row, invalid_cat_col] = invalid_value\n",
    "\n",
    "    # 6. Introduce negative values in numeric columns for n rows\n",
    "    for _ in range(n):\n",
    "        negative_value_col = random.choice(['RestingBP', 'Cholesterol', 'MaxHR', 'Oldpeak'])\n",
    "        negative_value_row = random.randint(0, num_rows - 1)\n",
    "        df.at[negative_value_row, negative_value_col] = -1000\n",
    "\n",
    "    # 7. Introduce out-of-range values (e.g., MaxHR too high) for n rows\n",
    "    for _ in range(n):\n",
    "        out_of_range_col = random.choice(['MaxHR', 'Oldpeak'])\n",
    "        out_of_range_row = random.randint(0, num_rows - 1)\n",
    "\n",
    "        out_of_range_values = {\n",
    "            'MaxHR': (201, 500),  # MaxHR should not go beyond 200 for most people\n",
    "            'Oldpeak':(10, 20)  # Oldpeak is usually between 0 and 10\n",
    "        }\n",
    "\n",
    "        out_of_range_value = random.randint(*out_of_range_values[out_of_range_col])\n",
    "        df.at[out_of_range_row, out_of_range_col] = out_of_range_value\n",
    "\n",
    "    # 8. Introduce outdated or biologically unrealistic values for n rows\n",
    "    for _ in range(n):\n",
    "        outdated_col = random.choice(['Cholesterol'])\n",
    "        outdated_row = random.randint(0, num_rows - 1)\n",
    "        bio_unrealistic_values = random.randint(0, 20)  # Cholesterol level shouldn't be 0\n",
    "        df.at[outdated_row, outdated_col] = bio_unrealistic_values\n",
    "\n",
    "    # 9. Mix data types in the same column for n rows\n",
    "    for _ in range(n):\n",
    "        mixed_type_col = random.choice(['Age', 'RestingBP', 'MaxHR'])\n",
    "        mixed_type_row = random.randint(0, num_rows - 1)\n",
    "\n",
    "        if df[mixed_type_col].dtype in [np.int64, np.float64]:\n",
    "            df.at[mixed_type_row, mixed_type_col] = np.float64(df.at[mixed_type_row, mixed_type_col])\n",
    "\n",
    "    # 10. Introduce mismatched values for n rows (e.g., age 15 and asymptomatic chest pain)\n",
    "    for _ in range(n):\n",
    "        mismatched_row = random.randint(0, num_rows - 1)\n",
    "        \n",
    "        # Set age to an unrealistically low value, but chest pain to a type typically for older people\n",
    "        df.at[mismatched_row, 'Age'] = 15\n",
    "        df.at[mismatched_row, 'ChestPainType'] = 'Asymptomatic'  # Typically not for young people\n",
    "\n",
    "    return df"
   ]
  },
  {
   "cell_type": "code",
   "execution_count": null,
   "id": "9e25be4e-45bd-4817-96a3-a79d65f7cae6",
   "metadata": {},
   "outputs": [],
   "source": [
    "# Load dataset\n",
    "file_path = r\"D:\\epita class notes\\dsp production\\project script\\raw_dataset\\heart.csv\"\n",
    "df = pd.read_csv(file_path)\n",
    "rows = df.shape[0]\n",
    "\n",
    "# Inject errors into 25% of the rows\n",
    "num_error_rows = int(0.25 * rows)  # Calculate 25% of the total rows\n",
    "df_with_errors = inject_errors_heart_data(df, n=num_error_rows)\n",
    "\n",
    "# Save the modified dataset to a new file (uncomment to save)\n",
    "# df_with_errors.to_csv(\"C:\\\\Users\\\\edwin victor\\\\git repositories\\\\dsp-heart-failure-prediction\\\\data\\\\heart_with_errors_25_percent.csv\", index=False)\n"
   ]
  },
  {
   "cell_type": "code",
   "execution_count": 8,
   "id": "0af10e21-280a-4a50-94b3-53409df020d6",
   "metadata": {},
   "outputs": [
    {
     "data": {
      "text/plain": [
       "'C:\\\\Users\\\\edwin victor\\\\git repositories\\\\dsp-heart-failure-prediction\\\\python_files'"
      ]
     },
     "execution_count": 8,
     "metadata": {},
     "output_type": "execute_result"
    }
   ],
   "source": [
    "os.getcwd()"
   ]
  },
  {
   "cell_type": "code",
   "execution_count": 9,
   "id": "f34b23c3-3eb5-475e-9cf2-94381a5149be",
   "metadata": {},
   "outputs": [
    {
     "data": {
      "text/plain": [
       "['.ipynb_checkpoints',\n",
       " 'data_corruption_notebook .ipynb',\n",
       " 'Heart-Failure-Prediction-modeling (2).ipynb',\n",
       " 'heart_failure_prediction.ipynb']"
      ]
     },
     "execution_count": 9,
     "metadata": {},
     "output_type": "execute_result"
    }
   ],
   "source": [
    "os.listdir()"
   ]
  },
  {
   "cell_type": "code",
   "execution_count": 12,
   "id": "ca64b5fe-495d-4710-aaab-b4e3ffe86b96",
   "metadata": {},
   "outputs": [
    {
     "data": {
      "text/plain": [
       "['.git',\n",
       " '.gitattributes',\n",
       " 'airflow',\n",
       " 'api',\n",
       " 'data',\n",
       " 'models',\n",
       " 'python_files',\n",
       " 'README.md',\n",
       " 'webapp']"
      ]
     },
     "execution_count": 12,
     "metadata": {},
     "output_type": "execute_result"
    }
   ],
   "source": [
    "path = os.path.dirname(os.getcwd())\n",
    "os.listdir(path)"
   ]
  },
  {
   "cell_type": "code",
   "execution_count": null,
   "id": "5e786ae8-d5b0-4f3a-b44d-2a58f84e4887",
   "metadata": {},
   "outputs": [],
   "source": []
  }
 ],
 "metadata": {
  "kernelspec": {
   "display_name": "Python 3 (ipykernel)",
   "language": "python",
   "name": "python3"
  },
  "language_info": {
   "codemirror_mode": {
    "name": "ipython",
    "version": 3
   },
   "file_extension": ".py",
   "mimetype": "text/x-python",
   "name": "python",
   "nbconvert_exporter": "python",
   "pygments_lexer": "ipython3",
   "version": "3.10.14"
  }
 },
 "nbformat": 4,
 "nbformat_minor": 5
}
